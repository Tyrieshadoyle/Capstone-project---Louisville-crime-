{
 "cells": [
  {
   "cell_type": "markdown",
   "metadata": {},
   "source": [
    "# Data Dictionary \n",
    "\n",
    "DATE_OCCURED - The date the crime was committed \n",
    "\n",
    "DATE_REPORTED - The date the crime was reported \n",
    "\n",
    "CRIME_TYPE - The type of crime that occured\n",
    "\n",
    "UOR_DESC - Reporting code for crime committed. Tells what crime was committed\n",
    "\n",
    "ATT_COMP - Was the crime attempted or completed\n",
    "\n",
    "ZIP_CODE - Zip code the crime was committed"
   ]
  }
 ],
 "metadata": {
  "language_info": {
   "name": "python"
  }
 },
 "nbformat": 4,
 "nbformat_minor": 2
}
