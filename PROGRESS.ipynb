{
 "cells": [
  {
   "cell_type": "code",
   "execution_count": 15,
   "metadata": {},
   "outputs": [
    {
     "name": "stderr",
     "output_type": "stream",
     "text": [
      "C:\\Users\\TechLouisville\\AppData\\Local\\Temp\\ipykernel_20208\\3216588485.py:7: DtypeWarning: Columns (13) have mixed types. Specify dtype option on import or set low_memory=False.\n",
      "  Louisville_crime_2020 = pd.read_csv ('../Capstone-project---Louisville-crime-/raw_data/Crime_Data_2020.csv')\n",
      "C:\\Users\\TechLouisville\\AppData\\Local\\Temp\\ipykernel_20208\\3216588485.py:8: DtypeWarning: Columns (3) have mixed types. Specify dtype option on import or set low_memory=False.\n",
      "  Louisville_crime_2021 = pd.read_csv('../Capstone-project---Louisville-crime-/raw_data/Crime_Data_2021.csv')\n",
      "C:\\Users\\TechLouisville\\AppData\\Local\\Temp\\ipykernel_20208\\3216588485.py:9: DtypeWarning: Columns (3,14) have mixed types. Specify dtype option on import or set low_memory=False.\n",
      "  Louisville_crime_2022 = pd.read_csv('../Capstone-project---Louisville-crime-/raw_data/Crime_Data_2022.csv')\n"
     ]
    }
   ],
   "source": [
    "import pandas as pd \n",
    "import numpy as np\n",
    "import os \n",
    "#import matplotlib.pylab as plt\n",
    "#plt.style.use('ggplot')\n",
    "# Read in CSV files \n",
    "Louisville_crime_2020 = pd.read_csv ('../Capstone-project---Louisville-crime-/raw_data/Crime_Data_2020.csv')\n",
    "Louisville_crime_2021 = pd.read_csv('../Capstone-project---Louisville-crime-/raw_data/Crime_Data_2021.csv')\n",
    "Louisville_crime_2022 = pd.read_csv('../Capstone-project---Louisville-crime-/raw_data/Crime_Data_2022.csv')\n",
    "#print(Louisville_crime_2022.to_string())"
   ]
  },
  {
   "cell_type": "code",
   "execution_count": 21,
   "metadata": {},
   "outputs": [],
   "source": [
    "# Droping columns by creating a new dataframe\n",
    "Louisville_crime_2020.columns \n",
    "LC20 = Louisville_crime_2020[['DATE_REPORTED','DATE_OCCURED', 'CRIME_TYPE', \n",
    "'UOR_DESC', 'ATT_COMP', 'LMPD_DIVISION', 'PREMISE_TYPE', 'ZIP_CODE']].copy()\n",
    "\n",
    "LC21 = Louisville_crime_2021[['DATE_REPORTED','DATE_OCCURED', 'CRIME_TYPE', \n",
    "'UOR_DESC', 'ATT_COMP', 'LMPD_DIVISION', 'PREMISE_TYPE', 'ZIP_CODE']].copy()\n",
    "\n",
    "LC22 = Louisville_crime_2022[['DATE_REPORTED','DATE_OCCURED', 'CRIME_TYPE', \n",
    "'UOR_DESC', 'ATT_COMP', 'LMPD_DIVISION', 'PREMISE_TYPE', 'ZIP_CODE']].copy()\n",
    "#print(LC22.to_string())"
   ]
  },
  {
   "cell_type": "code",
   "execution_count": null,
   "metadata": {},
   "outputs": [],
   "source": [
    "# amng\n",
    "LC21.rename({'DATE_REPORTED','DATE_OCCURED', 'CRIME_TYPE', \n",
    "'UOR_DESC', 'ATT_COMP', 'LMPD_DIVISION', 'PREMISE_TYPE', 'ZIP_CODE'})\n",
    "LC22.rename({'DATE_REPORTED','DATE_OCCURED', 'CRIME_TYPE', \n",
    "'UOR_DESC', 'ATT_COMP', 'LMPD_DIVISION', 'PREMISE_TYPE', 'ZIP_CODE'})"
   ]
  }
 ],
 "metadata": {
  "kernelspec": {
   "display_name": "Python 3",
   "language": "python",
   "name": "python3"
  },
  "language_info": {
   "codemirror_mode": {
    "name": "ipython",
    "version": 3
   },
   "file_extension": ".py",
   "mimetype": "text/x-python",
   "name": "python",
   "nbconvert_exporter": "python",
   "pygments_lexer": "ipython3",
   "version": "3.11.4"
  }
 },
 "nbformat": 4,
 "nbformat_minor": 2
}
