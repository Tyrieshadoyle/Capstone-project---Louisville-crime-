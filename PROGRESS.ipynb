{
 "cells": [
  {
   "cell_type": "code",
   "execution_count": 45,
   "metadata": {},
   "outputs": [
    {
     "name": "stderr",
     "output_type": "stream",
     "text": [
      "C:\\Users\\TechLouisville\\AppData\\Local\\Temp\\ipykernel_13320\\3308102265.py:7: DtypeWarning: Columns (13) have mixed types. Specify dtype option on import or set low_memory=False.\n",
      "  Louisville_crime_2020 = pd.read_csv ('../Capstone-project---Louisville-crime-/raw_data/Crime_Data_2020.csv')\n",
      "C:\\Users\\TechLouisville\\AppData\\Local\\Temp\\ipykernel_13320\\3308102265.py:8: DtypeWarning: Columns (3) have mixed types. Specify dtype option on import or set low_memory=False.\n",
      "  Louisville_crime_2021 = pd.read_csv('../Capstone-project---Louisville-crime-/raw_data/Crime_Data_2021.csv')\n",
      "C:\\Users\\TechLouisville\\AppData\\Local\\Temp\\ipykernel_13320\\3308102265.py:9: DtypeWarning: Columns (3,14) have mixed types. Specify dtype option on import or set low_memory=False.\n",
      "  Louisville_crime_2022 = pd.read_csv('../Capstone-project---Louisville-crime-/raw_data/Crime_Data_2022.csv')\n"
     ]
    }
   ],
   "source": [
    "import pandas as pd \n",
    "import numpy as np\n",
    "import os \n",
    "import sqlite3\n",
    "#import matplotlib\n",
    "# Read in CSV files \n",
    "Louisville_crime_2020 = pd.read_csv ('../Capstone-project---Louisville-crime-/raw_data/Crime_Data_2020.csv')\n",
    "Louisville_crime_2021 = pd.read_csv('../Capstone-project---Louisville-crime-/raw_data/Crime_Data_2021.csv')\n",
    "Louisville_crime_2022 = pd.read_csv('../Capstone-project---Louisville-crime-/raw_data/Crime_Data_2022.csv')\n",
    "#print(Louisville_crime_2022.to_string())"
   ]
  },
  {
   "cell_type": "code",
   "execution_count": 46,
   "metadata": {},
   "outputs": [],
   "source": [
    "# Droping columns by creating a new dataframe\n",
    "Louisville_crime_2020.columns \n",
    "LC20 = Louisville_crime_2020[['DATE_REPORTED','DATE_OCCURED', 'CRIME_TYPE', \n",
    "'UOR_DESC', 'ATT_COMP', 'LMPD_DIVISION', 'PREMISE_TYPE', 'ZIP_CODE']].copy()\n",
    "\n",
    "LC21 = Louisville_crime_2021[['DATE_REPORTED','DATE_OCCURED', 'CRIME_TYPE', \n",
    "'UOR_DESC', 'ATT_COMP', 'LMPD_DIVISION', 'PREMISE_TYPE', 'ZIP_CODE']].copy()\n",
    "\n",
    "LC22 = Louisville_crime_2022[['DATE_REPORTED','DATE_OCCURED', 'CRIME_TYPE', \n",
    "'UOR_DESC', 'ATT_COMP', 'LMPD_DIVISION', 'PREMISE_TYPE', 'ZIP_CODE']].copy()\n",
    "#print(LC22.to_string())"
   ]
  },
  {
   "cell_type": "code",
   "execution_count": 47,
   "metadata": {},
   "outputs": [],
   "source": [
    "# renaming columns \n",
    "LC21 = LC21.rename(columns={'DATE_REPORTED': 'DATE_REPORTED21', 'DATE_OCCURED' : 'DATE_OCCURED21', 'CRIME_TYPE' : 'CRIME_TYPE21', \n",
    "'UOR_DESC' : 'UOR_DESC21', 'ATT_COMP' : 'ATT_COMP21',  'LMPD_DIVISION' : 'LMPD_DIVISION21', 'PREMISE_TYPE' : 'PREMISE_TYPE21',\n",
    "'ZIP_CODE' : 'ZIP_CODE21'})\n",
    "LC22 = LC22.rename(columns={'DATE_REPORTED': 'DATE_REPORTED22', 'DATE_OCCURED' : 'DATE_OCCURED22', 'CRIME_TYPE' : 'CRIME_TYPE22', \n",
    "'UOR_DESC' : 'UOR_DESC22', 'ATT_COMP' : 'ATT_COMP22',  'LMPD_DIVISION' : 'LMPD_DIVISION22', 'PREMISE_TYPE' : 'PREMISE_TYPE22',\n",
    "'ZIP_CODE' : 'ZIP_CODE22'})\n",
    "#LC20.to_csv('../Capstone-project---Louisville-crime-/new_data/LC20.csv')\n",
    "#LC21.to_csv('../Capstone-project---Louisville-crime-/new_data/LC21.csv')\n",
    "#LC22.to_csv('../Capstone-project---Louisville-crime-/new_data/LC22.csv')\n"
   ]
  },
  {
   "cell_type": "code",
   "execution_count": 48,
   "metadata": {},
   "outputs": [
    {
     "ename": "SyntaxError",
     "evalue": "invalid syntax (2317187304.py, line 2)",
     "output_type": "error",
     "traceback": [
      "\u001b[1;36m  Cell \u001b[1;32mIn[48], line 2\u001b[1;36m\u001b[0m\n\u001b[1;33m    SELECT ATT_COMP22\u001b[0m\n\u001b[1;37m           ^\u001b[0m\n\u001b[1;31mSyntaxError\u001b[0m\u001b[1;31m:\u001b[0m invalid syntax\n"
     ]
    }
   ],
   "source": [
    "#Joining the dataframe\n",
    "Con = sqlite3.connection\n",
    "SELECT ATT_COMP22\n",
    "FROM Louisville_crime_2022\n",
    "Print()\n"
   ]
  }
 ],
 "metadata": {
  "kernelspec": {
   "display_name": "Python 3",
   "language": "python",
   "name": "python3"
  },
  "language_info": {
   "codemirror_mode": {
    "name": "ipython",
    "version": 3
   },
   "file_extension": ".py",
   "mimetype": "text/x-python",
   "name": "python",
   "nbconvert_exporter": "python",
   "pygments_lexer": "ipython3",
   "version": "3.11.4"
  }
 },
 "nbformat": 4,
 "nbformat_minor": 2
}
