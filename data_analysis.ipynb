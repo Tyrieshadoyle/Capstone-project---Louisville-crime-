{
 "cells": [
  {
   "cell_type": "code",
   "execution_count": 181,
   "metadata": {},
   "outputs": [
    {
     "name": "stderr",
     "output_type": "stream",
     "text": [
      "C:\\Users\\TechLouisville\\AppData\\Local\\Temp\\ipykernel_18204\\560582393.py:8: DtypeWarning: Columns (13) have mixed types. Specify dtype option on import or set low_memory=False.\n",
      "  Louisville_crime_2020 = pd.read_csv('../Capstone-project---Louisville-crime-/raw_data/Crime_Data_2020.csv')\n",
      "C:\\Users\\TechLouisville\\AppData\\Local\\Temp\\ipykernel_18204\\560582393.py:9: DtypeWarning: Columns (3) have mixed types. Specify dtype option on import or set low_memory=False.\n",
      "  Louisville_crime_2021 = pd.read_csv('../Capstone-project---Louisville-crime-/raw_data/Crime_Data_2021.csv')\n",
      "C:\\Users\\TechLouisville\\AppData\\Local\\Temp\\ipykernel_18204\\560582393.py:10: DtypeWarning: Columns (3,14) have mixed types. Specify dtype option on import or set low_memory=False.\n",
      "  Louisville_crime_2022 = pd.read_csv('../Capstone-project---Louisville-crime-/raw_data/Crime_Data_2022.csv')\n"
     ]
    }
   ],
   "source": [
    "import pandas as pd \n",
    "import numpy as np\n",
    "import os \n",
    "from pandasql import sqldf \n",
    "import csv\n",
    "import matplotlib\n",
    "# Read in CSV files \n",
    "Louisville_crime_2020 = pd.read_csv('../Capstone-project---Louisville-crime-/raw_data/Crime_Data_2020.csv')\n",
    "Louisville_crime_2021 = pd.read_csv('../Capstone-project---Louisville-crime-/raw_data/Crime_Data_2021.csv')\n",
    "Louisville_crime_2022 = pd.read_csv('../Capstone-project---Louisville-crime-/raw_data/Crime_Data_2022.csv')\n",
    "#print(Louisville_crime_2022.to_string())"
   ]
  },
  {
   "cell_type": "code",
   "execution_count": 182,
   "metadata": {},
   "outputs": [],
   "source": [
    "# Droping columns by creating a new dataframe\n",
    "Louisville_crime_2020.columns \n",
    "LC20 = Louisville_crime_2020[['DATE_REPORTED','DATE_OCCURED', 'CRIME_TYPE', \n",
    "'UOR_DESC', 'ATT_COMP', 'LMPD_DIVISION', 'PREMISE_TYPE', 'ZIP_CODE']].copy()\n",
    "\n",
    "LC21 = Louisville_crime_2021[['DATE_REPORTED','DATE_OCCURED', 'CRIME_TYPE', \n",
    "'UOR_DESC', 'ATT_COMP', 'LMPD_DIVISION', 'PREMISE_TYPE', 'ZIP_CODE']].copy()\n",
    "\n",
    "LC22 = Louisville_crime_2022[['DATE_REPORTED','DATE_OCCURED', 'CRIME_TYPE', \n",
    "'UOR_DESC', 'ATT_COMP', 'LMPD_DIVISION', 'PREMISE_TYPE', 'ZIP_CODE']].copy()\n",
    "#print(LC22.to_string())"
   ]
  },
  {
   "cell_type": "markdown",
   "metadata": {},
   "source": [
    "I renamed all the columns on two of the datasets so that I would know what year each column belonged to when I merged them together. I realized that the way I thought of merging the columns was not going to work, so I commented the cell out. "
   ]
  },
  {
   "cell_type": "code",
   "execution_count": 183,
   "metadata": {},
   "outputs": [],
   "source": [
    "# renaming columns \n",
    "#LC21 = LC21.rename(columns={'DATE_REPORTED': 'DATE_REPORTED21', 'DATE_OCCURED' : 'DATE_OCCURED21', 'CRIME_TYPE' : 'CRIME_TYPE21', \n",
    "#'UOR_DESC' : 'UOR_DESC21', 'ATT_COMP' : 'ATT_COMP21',  'LMPD_DIVISION' : 'LMPD_DIVISION21',\n",
    "#'ZIP_CODE' : 'ZIP_CODE21'})\n",
    "#LC22 = LC22.rename(columns={'DATE_REPORTED': 'DATE_REPORTED22', 'DATE_OCCURED' : 'DATE_OCCURED22', 'CRIME_TYPE' : 'CRIME_TYPE22', \n",
    "#'UOR_DESC' : 'UOR_DESC22', 'ATT_COMP' : 'ATT_COMP22',  'LMPD_DIVISION' : 'LMPD_DIVISION22', \n",
    "#'ZIP_CODE' : 'ZIP_CODE22'})\n",
    "#LC20.to_csv('../Capstone-project---Louisville-crime-/new_data/LC20.csv')\n",
    "#LC21.to_csv('../Capstone-project---Louisville-crime-/new_data/LC21.csv')\n",
    "#LC22.to_csv('../Capstone-project---Louisville-crime-/new_data/LC22.csv')\n",
    "#print(LC20.head(10).to_string())\n",
    "#print(LC21.head(10).to_string())\n",
    "#print(LC22.tail(10).to_string())"
   ]
  },
  {
   "cell_type": "code",
   "execution_count": 184,
   "metadata": {},
   "outputs": [
    {
     "name": "stdout",
     "output_type": "stream",
     "text": [
      "          DATE_REPORTED         DATE_OCCURED                CRIME_TYPE                                                   UOR_DESC   ATT_COMP LMPD_DIVISION                                   PREMISE_TYPE ZIP_CODE\n",
      "0   2020/01/01 13:50:00  2019/12/31 03:30:00                     FRAUD  FRAUD USE OF CREDIT CARD AFTER REPT LOST/STOLEN U/$10,000  COMPLETED  4TH DIVISION  SERVICE / GAS STATION                            40215\n",
      "1   2020/01/02 10:45:00  2019/12/31 18:00:00             THEFT/LARCENY               TBUT OR DISP ALL OTHERS > $500 BUT < $10,000  COMPLETED  6TH DIVISION  NON-ATTACHED RESD GARAGE/SHED/BULD               40218\n",
      "2   2020/01/01 00:26:00  2019/12/31 23:30:00    VEHICLE BREAK-IN/THEFT     TBUT OR DISP CONTENTS FROM VEH $500 OR > BUT < $10,000  COMPLETED  1ST DIVISION  HIGHWAY / ROAD / ALLEY                           40203\n",
      "3   2020/01/01 23:57:00  2020/01/01 03:00:00                 VANDALISM                               CRIMINAL MISCHIEF-2ND DEGREE  COMPLETED  4TH DIVISION  HIGHWAY / ROAD / ALLEY                           40208\n",
      "4   2020/01/02 11:02:00  2019/12/31 12:00:00    VEHICLE BREAK-IN/THEFT     TBUT OR DISP CONTENTS FROM VEH $500 OR > BUT < $10,000  COMPLETED  7TH DIVISION  DOCK/WHARF/FREIGHT/MODAL TERMINAL                40219\n",
      "5   2020/01/01 00:13:00  2019/12/31 22:59:00                   ASSAULT                  HARASSMENT - PHYSICAL CONTACT - NO INJURY  COMPLETED  5TH DIVISION  RESIDENCE / HOME                                 40205\n",
      "6   2020/01/02 00:26:00  2020/01/01 23:30:00                     OTHER                                            MISSING PERSONS  COMPLETED  2ND DIVISION  RESIDENCE / HOME                                 40211\n",
      "7   2020/01/02 17:50:00  2020/01/02 17:45:00  DRUGS/ALCOHOL VIOLATIONS                                          POSS OF MARIJUANA  COMPLETED  1ST DIVISION  HIGHWAY / ROAD / ALLEY                           40211\n",
      "8   2020/01/02 14:24:00  2019/09/01 14:24:00                   ASSAULT                   KNOWINGLY EXPLOIT ADULT BY PERSON O/$300  COMPLETED  4TH DIVISION  RESIDENCE / HOME                                 40215\n",
      "9   2020/01/01 17:43:00  2019/12/31 08:00:00    VEHICLE BREAK-IN/THEFT                      TBUT OR DISP CONTENTS FROM VEH < $500  ATTEMPTED  4TH DIVISION  OTHER RESIDENCE (APARTMENT/CONDO)                40216\n",
      "10  2020/01/01 13:35:00  2020/01/01 13:29:00             THEFT/LARCENY                            TBUT OR DISP SHOPLIFTING < $500  COMPLETED  3RD DIVISION  DEPARTMENT / DISCOUNT STORE                      40272\n",
      "11  2020/01/02 10:39:00  2020/01/02 10:25:00                   ASSAULT                  HARASSMENT - PHYSICAL CONTACT - NO INJURY  COMPLETED  3RD DIVISION  RESIDENCE / HOME                                 40214\n",
      "12  2020/01/01 09:05:00  2020/01/01 00:00:00                 VANDALISM                               CRIMINAL MISCHIEF-2ND DEGREE  COMPLETED  2ND DIVISION  RESIDENCE / HOME                                 40210\n",
      "13  2020/01/01 00:13:00  2019/12/31 22:59:00      DISTURBING THE PEACE                               CRIMINAL TRESPASS-1ST DEGREE  COMPLETED  5TH DIVISION  RESIDENCE / HOME                                 40205\n",
      "14  2020/01/02 00:18:00  2020/01/02 00:12:00                     OTHER                   DOMESTIC ABUSE DUTIES OF LAW ENFORCEMENT  COMPLETED  2ND DIVISION  RESIDENCE / HOME                                 40211\n",
      "15  2020/01/02 14:24:00  2019/09/01 14:24:00             THEFT/LARCENY                 THEFT BY DECEPTION-INCL COLD CHECKS U/$500  COMPLETED  4TH DIVISION  RESIDENCE / HOME                                 40215\n",
      "16  2020/01/02 17:15:00  2019/12/31 13:00:00                  BURGLARY                                      BURGLARY - 3RD DEGREE  COMPLETED  8TH DIVISION  NON-ATTACHED RESD GARAGE/SHED/BULD               40222\n",
      "17  2020/01/01 17:54:00  2019/12/03 20:00:00       MOTOR VEHICLE THEFT                     TBUT OR DISP AUTO > $500 BUT < $10,000  COMPLETED  3RD DIVISION  PARKING LOT / GARAGE                             40272\n",
      "18  2020/01/02 11:30:00  2020/01/02 09:45:00                     OTHER                     INJURED PERSON REQUIRING POLICE REPORT  COMPLETED  4TH DIVISION  RESIDENCE / HOME                                 40203\n",
      "19  2020/01/01 09:09:00  2020/01/01 09:09:00                     OTHER             RECOVERY OF STOLEN VEHICLE-OUT OF JURISDICTION  COMPLETED  3RD DIVISION  HIGHWAY / ROAD / ALLEY                           40118\n",
      "20  2020/01/01 00:42:00  2020/01/01 00:08:00                   ASSAULT                             WANTON ENDANGERMENT-1ST DEGREE  COMPLETED  4TH DIVISION  HIGHWAY / ROAD / ALLEY                           40215\n",
      "21  2020/01/02 14:24:00  2019/09/01 14:24:00                     FRAUD  CRIMINAL POSSESSION FORGED INSTRUMENT-2ND DEGREE-IDENTIFY  COMPLETED  4TH DIVISION  RESIDENCE / HOME                                 40215\n",
      "22  2020/01/01 13:56:00  2020/01/01 03:05:00                 VANDALISM                               CRIMINAL MISCHIEF-2ND DEGREE  COMPLETED  4TH DIVISION  HIGHWAY / ROAD / ALLEY                           40217\n",
      "23  2020/01/02 00:01:00  2020/01/01 23:45:00                   ASSAULT                   ASSAULT - 4TH DEGREE (NO VISIBLE INJURY)  COMPLETED  7TH DIVISION  RESIDENCE / HOME                                 40219\n",
      "24  2020/01/02 17:47:00  2019/12/26 10:00:00                  BURGLARY                                      BURGLARY - 2ND DEGREE  COMPLETED  4TH DIVISION  OTHER RESIDENCE (APARTMENT/CONDO)                40203\n",
      "25  2020/01/01 14:05:00  2020/01/01 14:00:00                   ROBBERY                                       ROBBERY - 1ST DEGREE  COMPLETED  1ST DIVISION  HIGHWAY / ROAD / ALLEY                           40212\n",
      "26  2020/01/02 00:02:00  2020/01/02 00:02:00  DRUGS/ALCOHOL VIOLATIONS   POSS CONTROLLED SUB 1ST DEGREE 1ST OFF (METHAMPHETAMINE)  COMPLETED  8TH DIVISION  PARKING LOT / GARAGE                             40222\n",
      "27  2020/01/02 14:25:00  2019/12/31 18:30:00             THEFT/LARCENY                                       TBUT OR DISP FIREARM  COMPLETED  6TH DIVISION  RESIDENCE / HOME                                 40219\n",
      "28  2020/01/01 08:37:00  2020/01/01 08:25:00  DRUGS/ALCOHOL VIOLATIONS                           DRUG PARAPHERNALIA - BUY/POSSESS  COMPLETED  4TH DIVISION  HIGHWAY / ROAD / ALLEY                           40208\n",
      "29  2020/01/01 17:40:00  2020/01/01 17:27:00  DRUGS/ALCOHOL VIOLATIONS   POSS CONTROLLED SUB 1ST DEGREE 1ST OFF (METHAMPHETAMINE)  COMPLETED  6TH DIVISION  HIGHWAY / ROAD / ALLEY                           40213\n",
      "30  2020/01/02 11:52:00  2004/09/06 00:01:00                     FRAUD               THEFT OF IDENTITY OF ANOTHER WITHOUT CONSENT  COMPLETED  4TH DIVISION  OTHER / UNKNOWN                                  40214\n",
      "31  2020/01/01 00:31:00  2019/12/31 22:30:00                 VANDALISM                             CRIMINAL MISCHIEF - 1ST DEGREE  COMPLETED  4TH DIVISION  HIGHWAY / ROAD / ALLEY                           40217\n",
      "32  2020/01/01 18:08:00  2019/12/31 23:30:00             THEFT/LARCENY                               TBUT OR DISP BICYCLES U/$500  COMPLETED  3RD DIVISION  RESIDENCE / HOME                                 40272\n",
      "33  2020/01/02 18:12:00  2019/11/01 00:01:00                   ASSAULT                           HARASSMENT (NO PHYSICAL CONTACT)  COMPLETED  8TH DIVISION  RESIDENCE / HOME                                 40223\n",
      "34  2020/01/02 13:39:00  2019/12/31 17:00:00                 VANDALISM                             CRIMINAL MISCHIEF - 1ST DEGREE  COMPLETED  4TH DIVISION  CONSTRUCTION SITE                                40209\n",
      "35  2020/01/02 11:56:00  2019/12/01 11:00:00             THEFT/LARCENY     TBUT OR DISP FROM COIN MACHINE $500 OR > BUT < $10,000  COMPLETED  6TH DIVISION  CONVENIENCE STORE                                40228\n",
      "36  2020/01/02 01:10:00  2020/01/01 06:00:00       MOTOR VEHICLE THEFT               TBUT OR DISP AUTO > $10,000 BUT < $1,000,000  COMPLETED  2ND DIVISION  HIGHWAY / ROAD / ALLEY                           40212\n",
      "37  2020/01/01 08:37:00  2020/01/01 08:25:00  DRUGS/ALCOHOL VIOLATIONS   POSS CONTROLLED SUB 1ST DEGREE 1ST OFF (METHAMPHETAMINE)  COMPLETED  4TH DIVISION  HIGHWAY / ROAD / ALLEY                           40208\n",
      "38  2020/01/01 14:06:00  2019/12/31 23:48:00                 VANDALISM                               CRIMINAL MISCHIEF-2ND DEGREE  COMPLETED  4TH DIVISION  HIGHWAY / ROAD / ALLEY                           40208\n",
      "39  2020/01/01 01:14:00  2020/01/01 01:10:00                   ASSAULT                         TERRORISTIC THREATENING 3RD DEGREE  COMPLETED  4TH DIVISION  RESIDENCE / HOME                                 40208\n",
      "40  2020/01/01 06:00:00  2020/01/01 05:55:00                     OTHER                   DOMESTIC ABUSE DUTIES OF LAW ENFORCEMENT  COMPLETED  1ST DIVISION  RESIDENCE / HOME                                 40203\n",
      "41  2020/01/02 17:37:00  2020/01/02 17:37:00                     OTHER                                                    SUICIDE  COMPLETED  6TH DIVISION  RESIDENCE / HOME                                 40213\n",
      "42  2020/01/02 13:39:00  2019/12/31 17:00:00                  BURGLARY                                      BURGLARY - 3RD DEGREE  COMPLETED  4TH DIVISION  HOTEL / MOTEL / ETC.                             40209\n",
      "43  2020/01/02 01:08:00  2020/01/02 01:06:00                   ASSAULT      ASSAULT - 4TH DEGREE (DOMESTIC VIOLENCE) MINOR INJURY  COMPLETED  4TH DIVISION  OTHER RESIDENCE (APARTMENT/CONDO)                40217\n",
      "44  2020/01/02 11:20:00  2020/01/02 11:11:00  DRUGS/ALCOHOL VIOLATIONS                           DRUG PARAPHERNALIA - BUY/POSSESS  COMPLETED  4TH DIVISION  RESIDENCE / HOME                                 40215\n",
      "45  2020/01/01 09:15:00  2020/01/01 02:30:00       MOTOR VEHICLE THEFT               TBUT OR DISP AUTO > $10,000 BUT < $1,000,000  COMPLETED  4TH DIVISION  RESIDENCE / HOME                                 40208\n",
      "46  2020/01/02 01:35:00  2020/01/02 01:26:00  DRUGS/ALCOHOL VIOLATIONS      POSS CONT SUB-1ST DEGREE-1ST OFFENSE-DRUG UNSPECIFIED  COMPLETED  2ND DIVISION  HIGHWAY / ROAD / ALLEY                           40210\n",
      "47  2020/01/02 11:20:00  2020/01/02 11:11:00  DRUGS/ALCOHOL VIOLATIONS      POSS CONT SUB-1ST DEGREE-1ST OFFENSE-DRUG UNSPECIFIED  COMPLETED  4TH DIVISION  RESIDENCE / HOME                                 40215\n",
      "48  2020/01/02 14:15:00  2020/01/02 14:08:00                     OTHER                   DOMESTIC ABUSE DUTIES OF LAW ENFORCEMENT  COMPLETED  1ST DIVISION  RESIDENCE / HOME                                 40202\n",
      "49  2020/01/01 01:19:00  2020/01/01 00:00:00                   ASSAULT                         TERRORISTIC THREATENING 3RD DEGREE  COMPLETED  4TH DIVISION  RESIDENCE / HOME                                 40208\n"
     ]
    }
   ],
   "source": [
    "# Merge datasets \n",
    "clean_data = pd.concat([LC20, LC21, LC22], axis=0)\n",
    "print(clean_data.head(50).to_string())\n",
    "#clean_data.to_csv('../Capstone-project---Louisville-crime-/new_data/clean_data.csv')"
   ]
  },
  {
   "cell_type": "code",
   "execution_count": null,
   "metadata": {},
   "outputs": [],
   "source": [
    "clean_data.shape\n",
    "clean_data.describe\n",
    "clean_data.groupby('ZIP_CODE').CRIME_TYPE.value_counts()\n",
    "clean_data[\"ZIP_CODE\"].unique()\n",
    "clean_data[\"CRIME_TYPE\"].unique()\n",
    "clean_data[\"CRIME_TYPE\"].value_counts()\n",
    "clean_data[\"ZIP_CODE\"].value_counts()\n",
    "clean_data[\"ATT_COMP\"].value_counts()"
   ]
  },
  {
   "cell_type": "code",
   "execution_count": 190,
   "metadata": {},
   "outputs": [
    {
     "data": {
      "text/plain": [
       "CRIME_TYPE\n",
       "ASSAULT                     49311\n",
       "THEFT/LARCENY               34247\n",
       "OTHER                       30293\n",
       "VEHICLE BREAK-IN/THEFT      18563\n",
       "VANDALISM                   18396\n",
       "DRUGS/ALCOHOL VIOLATIONS    14785\n",
       "BURGLARY                    13609\n",
       "MOTOR VEHICLE THEFT         13601\n",
       "FRAUD                       10853\n",
       "ROBBERY                      3720\n",
       "WEAPONS                      2831\n",
       "SEX CRIMES                   1593\n",
       "DISTURBING THE PEACE         1038\n",
       "HOMICIDE                      527\n",
       "ARSON                         495\n",
       "DUI                             4\n",
       "Name: count, dtype: int64"
      ]
     },
     "execution_count": 190,
     "metadata": {},
     "output_type": "execute_result"
    }
   ],
   "source": [
    "clean_data[\"CRIME_TYPE\"].value_counts()"
   ]
  },
  {
   "cell_type": "markdown",
   "metadata": {},
   "source": [
    " In querying the data I found that most of the crime of the three years occurred in the 40214 neighborhood. That zip code in the south Louisville area. The second highest was 40203, which is the downtown Louisville area. The crime that occurs the most was assault There were 49,311 in the last three years. The second highest is theft/larceny. "
   ]
  }
 ],
 "metadata": {
  "kernelspec": {
   "display_name": "Python 3",
   "language": "python",
   "name": "python3"
  },
  "language_info": {
   "codemirror_mode": {
    "name": "ipython",
    "version": 3
   },
   "file_extension": ".py",
   "mimetype": "text/x-python",
   "name": "python",
   "nbconvert_exporter": "python",
   "pygments_lexer": "ipython3",
   "version": "3.11.4"
  }
 },
 "nbformat": 4,
 "nbformat_minor": 2
}
